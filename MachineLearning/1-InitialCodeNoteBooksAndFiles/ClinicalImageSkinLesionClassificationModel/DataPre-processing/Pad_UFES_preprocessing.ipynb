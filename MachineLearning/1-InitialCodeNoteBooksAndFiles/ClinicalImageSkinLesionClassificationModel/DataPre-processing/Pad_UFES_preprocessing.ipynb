{
  "metadata": {
    "kernelspec": {
      "language": "python",
      "display_name": "Python 3",
      "name": "python3"
    },
    "language_info": {
      "name": "python",
      "version": "3.10.13",
      "mimetype": "text/x-python",
      "codemirror_mode": {
        "name": "ipython",
        "version": 3
      },
      "pygments_lexer": "ipython3",
      "nbconvert_exporter": "python",
      "file_extension": ".py"
    },
    "kaggle": {
      "accelerator": "none",
      "dataSources": [
        {
          "sourceId": 6858955,
          "sourceType": "datasetVersion",
          "datasetId": 3942134
        }
      ],
      "dockerImageVersionId": 30732,
      "isInternetEnabled": true,
      "language": "python",
      "sourceType": "notebook",
      "isGpuEnabled": false
    },
    "colab": {
      "provenance": []
    }
  },
  "nbformat_minor": 0,
  "nbformat": 4,
  "cells": [
    {
      "source": [
        "\n",
        "# IMPORTANT: RUN THIS CELL IN ORDER TO IMPORT YOUR KAGGLE DATA SOURCES\n",
        "# TO THE CORRECT LOCATION (/kaggle/input) IN YOUR NOTEBOOK,\n",
        "# THEN FEEL FREE TO DELETE THIS CELL.\n",
        "# NOTE: THIS NOTEBOOK ENVIRONMENT DIFFERS FROM KAGGLE'S PYTHON\n",
        "# ENVIRONMENT SO THERE MAY BE MISSING LIBRARIES USED BY YOUR\n",
        "# NOTEBOOK.\n",
        "\n",
        "import os\n",
        "import sys\n",
        "from tempfile import NamedTemporaryFile\n",
        "from urllib.request import urlopen\n",
        "from urllib.parse import unquote, urlparse\n",
        "from urllib.error import HTTPError\n",
        "from zipfile import ZipFile\n",
        "import tarfile\n",
        "import shutil\n",
        "\n",
        "CHUNK_SIZE = 40960\n",
        "DATA_SOURCE_MAPPING = 'augmentation-task-pad-ufes-20:https%3A%2F%2Fstorage.googleapis.com%2Fkaggle-data-sets%2F3942134%2F6858955%2Fbundle%2Farchive.zip%3FX-Goog-Algorithm%3DGOOG4-RSA-SHA256%26X-Goog-Credential%3Dgcp-kaggle-com%2540kaggle-161607.iam.gserviceaccount.com%252F20240624%252Fauto%252Fstorage%252Fgoog4_request%26X-Goog-Date%3D20240624T212227Z%26X-Goog-Expires%3D259200%26X-Goog-SignedHeaders%3Dhost%26X-Goog-Signature%3D0eaf2199a21fe2ec6fe93c25c0c92b90f361038b323644f4155dc559ff2122d023a417bab6507aa43fef5681c8f0fcbbae9c9fc0d8367e5fbfab01b777a54545448fef3b2375359ac57b50b6daaacee566cd476fc96b7bd52321358542f02b0fee07737313a750146709e0a29340e70fbe0c0a9386bfbfb086edda9dd6c457d6bbff060decbb30b1f9dc879f7a3d33eefd01e2179fd4a17022dfe5375d64147ffefead1a3dc6a9311ed9a62a6d93973c58b23641e9862221ba2cbb92ac8dd60b92c7d428a152d27150f4c95025d388587f891b55910610a59cf597e9d4732c5094b132abf30f29298e915f6e6c9227f2d209518606d74343995871736202ee8b'\n",
        "\n",
        "KAGGLE_INPUT_PATH='/kaggle/input'\n",
        "KAGGLE_WORKING_PATH='/kaggle/working'\n",
        "KAGGLE_SYMLINK='kaggle'\n",
        "\n",
        "!umount /kaggle/input/ 2> /dev/null\n",
        "shutil.rmtree('/kaggle/input', ignore_errors=True)\n",
        "os.makedirs(KAGGLE_INPUT_PATH, 0o777, exist_ok=True)\n",
        "os.makedirs(KAGGLE_WORKING_PATH, 0o777, exist_ok=True)\n",
        "\n",
        "try:\n",
        "  os.symlink(KAGGLE_INPUT_PATH, os.path.join(\"..\", 'input'), target_is_directory=True)\n",
        "except FileExistsError:\n",
        "  pass\n",
        "try:\n",
        "  os.symlink(KAGGLE_WORKING_PATH, os.path.join(\"..\", 'working'), target_is_directory=True)\n",
        "except FileExistsError:\n",
        "  pass\n",
        "\n",
        "for data_source_mapping in DATA_SOURCE_MAPPING.split(','):\n",
        "    directory, download_url_encoded = data_source_mapping.split(':')\n",
        "    download_url = unquote(download_url_encoded)\n",
        "    filename = urlparse(download_url).path\n",
        "    destination_path = os.path.join(KAGGLE_INPUT_PATH, directory)\n",
        "    try:\n",
        "        with urlopen(download_url) as fileres, NamedTemporaryFile() as tfile:\n",
        "            total_length = fileres.headers['content-length']\n",
        "            print(f'Downloading {directory}, {total_length} bytes compressed')\n",
        "            dl = 0\n",
        "            data = fileres.read(CHUNK_SIZE)\n",
        "            while len(data) > 0:\n",
        "                dl += len(data)\n",
        "                tfile.write(data)\n",
        "                done = int(50 * dl / int(total_length))\n",
        "                sys.stdout.write(f\"\\r[{'=' * done}{' ' * (50-done)}] {dl} bytes downloaded\")\n",
        "                sys.stdout.flush()\n",
        "                data = fileres.read(CHUNK_SIZE)\n",
        "            if filename.endswith('.zip'):\n",
        "              with ZipFile(tfile) as zfile:\n",
        "                zfile.extractall(destination_path)\n",
        "            else:\n",
        "              with tarfile.open(tfile.name) as tarfile:\n",
        "                tarfile.extractall(destination_path)\n",
        "            print(f'\\nDownloaded and uncompressed: {directory}')\n",
        "    except HTTPError as e:\n",
        "        print(f'Failed to load (likely expired) {download_url} to path {destination_path}')\n",
        "        continue\n",
        "    except OSError as e:\n",
        "        print(f'Failed to load {download_url} to path {destination_path}')\n",
        "        continue\n",
        "\n",
        "print('Data source import complete.')\n"
      ],
      "metadata": {
        "id": "0UwmpNp8qhEu"
      },
      "cell_type": "code",
      "outputs": [],
      "execution_count": null
    },
    {
      "cell_type": "code",
      "source": [
        "#Data Preprocessing\n",
        "import numpy as np\n",
        "import pandas as pd\n",
        "from PIL import Image\n",
        "import random\n",
        "import os\n",
        "import shutil\n",
        "\n",
        "def Transform_data():\n",
        "    Image_directory  = '/kaggle/input/augmentation-task-pad-ufes-20/PAD/Posterior_Augmentation'\n",
        "    classes = {'MEL': 0, 'NEV':1,'BCC':2,'ACK': 3,'SCC': 4,'SEK':5}\n",
        "\n",
        "    def resize_and_save(input_path, output_path, new_size):\n",
        "        original_image = Image.open(input_path)\n",
        "        resized_image = original_image.resize(new_size)\n",
        "        rgb_image = resized_image.convert(\"RGB\")\n",
        "        rgb_image.save(output_path, 'JPEG')\n",
        "\n",
        "    i = 0\n",
        "    for root, dirs, files in os.walk(Image_directory):\n",
        "        for file in files:\n",
        "\n",
        "            img = os.path.join(root, file)\n",
        "            img_name = file\n",
        "\n",
        "            output_direc = 'Pad-UFES_preprocessed'\n",
        "            chunk_name = root.split('/')[-2]\n",
        "            class_num =str(classes[root.split('/')[-1]])\n",
        "            class_output_dir = os.path.join(output_direc, chunk_name, class_num)\n",
        "            if not os.path.exists(class_output_dir):\n",
        "                os.makedirs(class_output_dir)\n",
        "\n",
        "            output_image_path = os.path.join(class_output_dir, img_name)\n",
        "            new_size = (128, 128)\n",
        "            i += 1\n",
        "            if (i + 1) % (50000 // 10) == 0:\n",
        "                print()\n",
        "                print(\"Progress: \" + str(i) + '/' + str(50000) + \" \"+ str(round(i /50000 * 100))+ \"%\")\n",
        "            resize_and_save(img, output_image_path, new_size)\n",
        "\n",
        "\n",
        "Transform_data()\n",
        "shutil.make_archive('/kaggle/working/Pad-UFES_preprocessed', 'zip', 'Pad-UFES_preprocessed_zipped')\n",
        "print(\"\\n Data Saved\")"
      ],
      "metadata": {
        "_uuid": "8f2839f25d086af736a60e9eeb907d3b93b6e0e5",
        "_cell_guid": "b1076dfc-b9ad-4769-8c92-a6c4dae69d19",
        "execution": {
          "iopub.status.busy": "2024-06-12T17:59:09.574783Z",
          "iopub.execute_input": "2024-06-12T17:59:09.575721Z",
          "iopub.status.idle": "2024-06-12T18:06:51.520753Z",
          "shell.execute_reply.started": "2024-06-12T17:59:09.575675Z",
          "shell.execute_reply": "2024-06-12T18:06:51.519315Z"
        },
        "trusted": true,
        "id": "Xo3hI6F9qhEy",
        "outputId": "c66b76be-9d07-4cb4-fdfc-5122741c33bc"
      },
      "execution_count": null,
      "outputs": [
        {
          "name": "stdout",
          "text": "\nProgress: 4999/50000 10%\n\nProgress: 9999/50000 20%\n\nProgress: 14999/50000 30%\n\nProgress: 19999/50000 40%\n\nProgress: 24999/50000 50%\n\nProgress: 29999/50000 60%\n\nProgress: 34999/50000 70%\n\nProgress: 39999/50000 80%\n\nProgress: 44999/50000 90%\n\nProgress: 49999/50000 100%\n\nProgress: 54999/50000 110%\n\nProgress: 59999/50000 120%\n\n Data Saved\n",
          "output_type": "stream"
        }
      ]
    },
    {
      "cell_type": "code",
      "source": [],
      "metadata": {
        "execution": {
          "iopub.status.busy": "2024-06-12T18:14:14.726987Z",
          "iopub.execute_input": "2024-06-12T18:14:14.727363Z",
          "iopub.status.idle": "2024-06-12T18:14:32.193507Z",
          "shell.execute_reply.started": "2024-06-12T18:14:14.727332Z",
          "shell.execute_reply": "2024-06-12T18:14:32.192323Z"
        },
        "trusted": true,
        "id": "yQ72uQXuqhEz",
        "outputId": "db7a1dc6-53ef-4d74-c0d2-f35fe345df9b"
      },
      "execution_count": null,
      "outputs": [
        {
          "execution_count": 4,
          "output_type": "execute_result",
          "data": {
            "text/plain": "'/kaggle/working/Pad-UFES_preprocessed_zippedd.zip'"
          },
          "metadata": {}
        }
      ]
    }
  ]
}